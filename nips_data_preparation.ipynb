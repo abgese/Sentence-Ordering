{
 "cells": [
  {
   "cell_type": "code",
   "execution_count": null,
   "metadata": {},
   "outputs": [],
   "source": [
    "import pandas as pd\n",
    "import nltk.data\n",
    "import itertools\n",
    "import random\n",
    "import numpy as np\n",
    "import os"
   ]
  },
  {
   "cell_type": "code",
   "execution_count": null,
   "metadata": {},
   "outputs": [],
   "source": [
    "nltk.download('punkt')\n",
    "tokenizer = nltk.data.load('tokenizers/punkt/english.pickle')\n",
    "SHUFFLE_COUNT = 5\n",
    "max_seq_len = 10"
   ]
  },
  {
   "cell_type": "code",
   "execution_count": null,
   "metadata": {},
   "outputs": [],
   "source": [
    "data = pd.read_csv(\"./nips_data/nips_papers.csv\")"
   ]
  },
  {
   "cell_type": "code",
   "execution_count": null,
   "metadata": {},
   "outputs": [],
   "source": [
    "abstracts = data['abstract'][data['abstract'] != 'Abstract Missing']"
   ]
  },
  {
   "cell_type": "code",
   "execution_count": null,
   "metadata": {},
   "outputs": [],
   "source": [
    "os.makedirs(\"./nips_data/original/\", exist_ok=True)\n",
    "os.makedirs(\"./nips_data/permutations/\", exist_ok=True)\n",
    "os.makedirs(\"./nips_data/processed/\", exist_ok=True)"
   ]
  },
  {
   "cell_type": "code",
   "execution_count": null,
   "metadata": {},
   "outputs": [],
   "source": [
    "for index,abstract in enumerate(abstracts):\n",
    "    file_name = \"./nips_data/original/original_\"+str(index)+\".csv\"\n",
    "    f = open('%s' % file_name, 'w+')\n",
    "    abstract = \" \".join(abstract.split())\n",
    "    for line_number,line in enumerate(tokenizer.tokenize(abstract)):\n",
    "        f.write(str(line_number) + \"\\t\" + line + \"\\n\")\n",
    "            \n",
    "    f.close()"
   ]
  },
  {
   "cell_type": "code",
   "execution_count": null,
   "metadata": {},
   "outputs": [],
   "source": [
    "for index in range(len(abstracts)):\n",
    "    file_name = \"./nips_data/original/original_\"+str(index)+\".csv\"\n",
    "    f = open('%s' % file_name, 'r')\n",
    "    \n",
    "    content = f.readlines()\n",
    "    for i in range(SHUFFLE_COUNT):\n",
    "        shuffled_file_name = \"./nips_data/permutations/original_\"+ str(index) +\"_permutation_\"+str(i)+\".csv\"\n",
    "        shuffled_f = open('%s' % shuffled_file_name, 'w+')\n",
    "        if(i == 0):\n",
    "            shuffled_content =''.join(content)\n",
    "        else:\n",
    "            random.shuffle(content)\n",
    "            shuffled_content = ''.join(content)\n",
    "            \n",
    "        shuffled_f.write(shuffled_content)\n",
    "        shuffled_f.close()\n",
    "    \n",
    "    f.close()"
   ]
  },
  {
   "cell_type": "code",
   "execution_count": null,
   "metadata": {},
   "outputs": [],
   "source": [
    "permutationFiles =  os.listdir(\"./nips_data/permutations/\")\n",
    "len(permutationFiles)"
   ]
  },
  {
   "cell_type": "code",
   "execution_count": null,
   "metadata": {},
   "outputs": [],
   "source": [
    "permutationData = []\n",
    "for file in permutationFiles:\n",
    "    with open(\"./nips_data/permutations/\"+file) as f:\n",
    "        permutationData.append(f.readlines())"
   ]
  },
  {
   "cell_type": "code",
   "execution_count": null,
   "metadata": {},
   "outputs": [],
   "source": [
    "num_files = len(permutationData)\n",
    "\n",
    "processedData = np.array([[\" \" for i in range(max_seq_len)] for i in range(num_files)], dtype = object)\n",
    "processedDataPerm = np.array([[-1 for i in range(max_seq_len)] for i in range(num_files)])\n",
    "for i in range(num_files):\n",
    "    fileData = permutationData[i]\n",
    "    j = 0\n",
    "    for line in fileData:\n",
    "        processedData[i][j] = ''.join(line.split('\\t')[1:]).strip()\n",
    "        \n",
    "        if(int(line.split('\\t')[0]) <= max_seq_len):\n",
    "            processedDataPerm[i][j] = int(line.split('\\t')[0])\n",
    "            j += 1\n",
    "        if( j >= max_seq_len ):\n",
    "            break"
   ]
  },
  {
   "cell_type": "code",
   "execution_count": null,
   "metadata": {},
   "outputs": [],
   "source": [
    "with open('./nips_data/processed/sentences.txt','w+') as f:\n",
    "    for line in processedData:\n",
    "        f.write('\\t'.join(line).strip() + '\\n')"
   ]
  },
  {
   "cell_type": "code",
   "execution_count": null,
   "metadata": {},
   "outputs": [],
   "source": [
    "with open(\"./nips_data/processed/permutations.txt\",'w+') as f:\n",
    "    for line in processedDataPerm:\n",
    "        f.write('\\t'.join(line.astype(str)).strip() + '\\n')"
   ]
  }
 ],
 "metadata": {
  "kernelspec": {
   "display_name": "Python 3",
   "language": "python",
   "name": "python3"
  },
  "language_info": {
   "codemirror_mode": {
    "name": "ipython",
    "version": 3
   },
   "file_extension": ".py",
   "mimetype": "text/x-python",
   "name": "python",
   "nbconvert_exporter": "python",
   "pygments_lexer": "ipython3",
   "version": "3.7.4"
  }
 },
 "nbformat": 4,
 "nbformat_minor": 4
}

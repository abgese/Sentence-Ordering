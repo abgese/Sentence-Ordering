{
 "cells": [
  {
   "cell_type": "code",
   "execution_count": null,
   "metadata": {},
   "outputs": [],
   "source": [
    "import glob\n",
    "import numpy as np\n",
    "import os"
   ]
  },
  {
   "cell_type": "code",
   "execution_count": null,
   "metadata": {},
   "outputs": [],
   "source": [
    "permutationFiles =  glob.glob(\"./data/ntsb[0-9]*.txt-1-5-5-0-out.perm-*\")\n",
    "len(permutationFiles)"
   ]
  },
  {
   "cell_type": "code",
   "execution_count": null,
   "metadata": {},
   "outputs": [],
   "source": [
    "permutationData = []\n",
    "for file in permutationFiles:\n",
    "    with open(file) as f:\n",
    "        permutationData.append(f.readlines())"
   ]
  },
  {
   "cell_type": "code",
   "execution_count": null,
   "metadata": {},
   "outputs": [],
   "source": [
    "mn = 30000\n",
    "mx = 0\n",
    "lens = []\n",
    "for data in permutationData:\n",
    "    mn = min(mn, len(data))\n",
    "    mx = max(mx, len(data))\n",
    "    lens.append(len(data))\n",
    "    \n",
    "print(np.percentile(lens, 90))\n",
    "print(mn)\n",
    "print(mx)"
   ]
  },
  {
   "cell_type": "code",
   "execution_count": null,
   "metadata": {},
   "outputs": [],
   "source": [
    "os.makedirs(\"./data/processed/\", exist_ok=True)"
   ]
  },
  {
   "cell_type": "code",
   "execution_count": null,
   "metadata": {},
   "outputs": [],
   "source": [
    "num_files = len(permutationData)\n",
    "max_seq_len = 10\n",
    "processedData = np.array([[\" \" for i in range(max_seq_len)] for i in range(num_files)], dtype = object)\n",
    "processedDataPerm = np.array([[-1 for i in range(max_seq_len)] for i in range(num_files)])\n",
    "for i in range(num_files):\n",
    "    fileData = permutationData[i]\n",
    "    j = 0\n",
    "    for line in fileData:\n",
    "        processedData[i][j] = ' '.join(line.split(' ')[1:]).strip()\n",
    "        \n",
    "        if(int(line.split(' ')[0].split('-')[-1]) <= max_seq_len):\n",
    "            processedDataPerm[i][j] = int(line.split(' ')[0].split('-')[-1]) - 1\n",
    "            j += 1\n",
    "        if( j >= max_seq_len ):\n",
    "            break\n",
    "        \n",
    "        "
   ]
  },
  {
   "cell_type": "code",
   "execution_count": null,
   "metadata": {},
   "outputs": [],
   "source": [
    "with open('./data/processed/sentences.txt','w') as f:\n",
    "    for line in processedData:\n",
    "        f.write('\\t'.join(line).strip() + '\\n')"
   ]
  },
  {
   "cell_type": "code",
   "execution_count": null,
   "metadata": {},
   "outputs": [],
   "source": [
    "with open('./data/processed/permutations.txt','w') as f:\n",
    "    for line in processedDataPerm:\n",
    "        f.write('\\t'.join(line.astype(str)).strip() + '\\n')"
   ]
  }
 ],
 "metadata": {
  "kernelspec": {
   "display_name": "Python 3",
   "language": "python",
   "name": "python3"
  },
  "language_info": {
   "codemirror_mode": {
    "name": "ipython",
    "version": 3
   },
   "file_extension": ".py",
   "mimetype": "text/x-python",
   "name": "python",
   "nbconvert_exporter": "python",
   "pygments_lexer": "ipython3",
   "version": "3.7.4"
  }
 },
 "nbformat": 4,
 "nbformat_minor": 4
}

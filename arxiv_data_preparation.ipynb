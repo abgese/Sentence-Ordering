{
 "cells": [
  {
   "cell_type": "code",
   "execution_count": 116,
   "metadata": {},
   "outputs": [],
   "source": [
    "import json\n",
    "import nltk.data\n",
    "import itertools\n",
    "import random\n",
    "import numpy as np"
   ]
  },
  {
   "cell_type": "code",
   "execution_count": 14,
   "metadata": {
    "scrolled": true
   },
   "outputs": [
    {
     "name": "stderr",
     "output_type": "stream",
     "text": [
      "[nltk_data] Downloading package punkt to /Users/sahanalva/nltk_data...\n",
      "[nltk_data]   Unzipping tokenizers/punkt.zip.\n"
     ]
    }
   ],
   "source": [
    "nltk.download('punkt')\n",
    "tokenizer = nltk.data.load('tokenizers/punkt/english.pickle')"
   ]
  },
  {
   "cell_type": "code",
   "execution_count": 7,
   "metadata": {},
   "outputs": [],
   "source": [
    "with open(\"/Users/sahanalva/Downloads/arxivData.json\", \"r\") as read_file:\n",
    "    data = json.load(read_file)"
   ]
  },
  {
   "cell_type": "code",
   "execution_count": 85,
   "metadata": {},
   "outputs": [],
   "source": [
    "count = 0\n",
    "for index,paper in enumerate(data):\n",
    "    file_name = \"/Users/sahanalva/Sentence-Ordering/arxiv_data/original/original_\"+str(index)+\".csv\"\n",
    "    f = open('%s' % file_name, 'w+')\n",
    "    abstract = paper['summary'].replace('\\n','')\n",
    "    for line_number,line in enumerate(tokenizer.tokenize(abstract)):\n",
    "        f.write(str(line_number) + \"\\t\" + line + \"\\n\")\n",
    "    \n",
    "    count += line_number\n",
    "        \n",
    "\n",
    "    f.close()\n",
    "    "
   ]
  },
  {
   "cell_type": "code",
   "execution_count": 90,
   "metadata": {},
   "outputs": [
    {
     "name": "stderr",
     "output_type": "stream",
     "text": [
      "//anaconda2/envs/python36/lib/python3.7/site-packages/ipykernel_launcher.py:3: DeprecationWarning: 'U' mode is deprecated\n",
      "  This is separate from the ipykernel package so we can avoid doing imports until\n"
     ]
    }
   ],
   "source": [
    "for index in range(len(data)):\n",
    "    file_name = \"/Users/sahanalva/Sentence-Ordering/arxiv_data/original/original_\"+str(index)+\".csv\"\n",
    "    f = open('%s' % file_name, 'r')\n",
    "    \n",
    "    content = f.readlines()\n",
    "    for i in range(5):\n",
    "        shuffled_file_name = \"/Users/sahanalva/Sentence-Ordering/arxiv_data/permutations/original_\"+ str(index) +\"_permutation_\"+str(i)+\".csv\"\n",
    "        shuffled_f = open('%s' % shuffled_file_name, 'w+')\n",
    "        if(i == 0):\n",
    "            shuffled_content =''.join(content)\n",
    "        else:\n",
    "            random.shuffle(content)\n",
    "            shuffled_content = ''.join(content)\n",
    "            \n",
    "        shuffled_f.write(shuffled_content)\n",
    "        shuffled_f.close()\n",
    "    \n",
    "    f.close()"
   ]
  },
  {
   "cell_type": "code",
   "execution_count": 102,
   "metadata": {},
   "outputs": [
    {
     "data": {
      "text/plain": [
       "205000"
      ]
     },
     "execution_count": 102,
     "metadata": {},
     "output_type": "execute_result"
    }
   ],
   "source": [
    "os.chdir(\"/Users/sahanalva/Sentence-Ordering/arxiv_data/permutations/\")\n",
    "permutationFiles =  os.listdir(\"./\")\n",
    "len(permutationFiles)\n"
   ]
  },
  {
   "cell_type": "code",
   "execution_count": 103,
   "metadata": {},
   "outputs": [],
   "source": [
    "permutationData = []\n",
    "for file in permutationFiles:\n",
    "    with open(file) as f:\n",
    "        permutationData.append(f.readlines())"
   ]
  },
  {
   "cell_type": "code",
   "execution_count": 126,
   "metadata": {},
   "outputs": [],
   "source": [
    "num_files = len(permutationData)\n",
    "max_seq_len = 10\n",
    "processedData = np.array([[\" \" for i in range(max_seq_len)] for i in range(num_files)], dtype = object)\n",
    "processedDataPerm = np.array([[-1 for i in range(max_seq_len)] for i in range(num_files)])\n",
    "for i in range(num_files):\n",
    "    fileData = permutationData[i]\n",
    "    j = 0\n",
    "    for line in fileData:\n",
    "        processedData[i][j] = ''.join(line.split('\\t')[1:]).strip()\n",
    "        \n",
    "        if(int(line.split('\\t')[0]) <= max_seq_len):\n",
    "            processedDataPerm[i][j] = int(line.split('\\t')[0])\n",
    "            j += 1\n",
    "        if( j >= max_seq_len ):\n",
    "            break"
   ]
  },
  {
   "cell_type": "code",
   "execution_count": 127,
   "metadata": {},
   "outputs": [],
   "source": [
    "with open('/Users/sahanalva/Sentence-Ordering/arxiv_data/sentences.txt','w') as f:\n",
    "    for line in processedData:\n",
    "        f.write('\\t'.join(line).strip() + '\\n')"
   ]
  },
  {
   "cell_type": "code",
   "execution_count": 128,
   "metadata": {},
   "outputs": [],
   "source": [
    "with open('/Users/sahanalva/Sentence-Ordering/arxiv_data/permutations.txt','w') as f:\n",
    "    for line in processedDataPerm:\n",
    "        f.write('\\t'.join(line.astype(str)).strip() + '\\n')"
   ]
  }
 ],
 "metadata": {
  "kernelspec": {
   "display_name": "Python 3",
   "language": "python",
   "name": "python3"
  },
  "language_info": {
   "codemirror_mode": {
    "name": "ipython",
    "version": 3
   },
   "file_extension": ".py",
   "mimetype": "text/x-python",
   "name": "python",
   "nbconvert_exporter": "python",
   "pygments_lexer": "ipython3",
   "version": "3.7.5"
  }
 },
 "nbformat": 4,
 "nbformat_minor": 2
}

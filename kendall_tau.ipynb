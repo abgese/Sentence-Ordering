{
 "cells": [
  {
   "cell_type": "code",
   "execution_count": 43,
   "metadata": {},
   "outputs": [],
   "source": [
    "import scipy.stats as stats\n",
    "import numpy as np\n",
    "import tensorflow.keras.backend as K\n"
   ]
  },
  {
   "cell_type": "code",
   "execution_count": 96,
   "metadata": {},
   "outputs": [],
   "source": [
    "MAX_SEQ_LEN = 6"
   ]
  },
  {
   "cell_type": "code",
   "execution_count": 121,
   "metadata": {},
   "outputs": [],
   "source": [
    "def calulateKendallTau(y_true, y_pred):\n",
    "    y_true = K.eval(y_true)\n",
    "    y_pred = K.eval(y_pred)\n",
    "    \n",
    "    y_true_indexed = (np.argmax(y_true, axis=-1) + 1)\n",
    "    y_pred_indexed = (np.argmax(y_pred, axis=-1) + 1)\n",
    "    \n",
    "    \n",
    "    corrected_y_pred_indexed = (y_true_indexed != MAX_SEQ_LEN) * y_pred_indexed\n",
    "    corrected_y_pred_indexed[corrected_y_pred_indexed == 0] = MAX_SEQ_LEN\n",
    "    \n",
    "    kendal_tau_list = []\n",
    "    for i in range(y_true_indexed.shape[0]):\n",
    "        print(stats.kendalltau(y_true_indexed[i],corrected_y_pred_indexed[i])[0])\n",
    "        kendal_tau_list.append(stats.kendalltau(y_true_indexed[i],corrected_y_pred_indexed[i])[0])\n",
    "    \n",
    "    return np.mean(kendal_tau_list)\n",
    "    "
   ]
  }
 ],
 "metadata": {
  "kernelspec": {
   "display_name": "Python 3",
   "language": "python",
   "name": "python3"
  },
  "language_info": {
   "codemirror_mode": {
    "name": "ipython",
    "version": 3
   },
   "file_extension": ".py",
   "mimetype": "text/x-python",
   "name": "python",
   "nbconvert_exporter": "python",
   "pygments_lexer": "ipython3",
   "version": "3.7.5"
  }
 },
 "nbformat": 4,
 "nbformat_minor": 2
}

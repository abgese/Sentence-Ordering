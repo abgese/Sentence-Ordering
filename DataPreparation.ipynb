{
 "cells": [
  {
   "cell_type": "code",
   "execution_count": 183,
   "metadata": {},
   "outputs": [],
   "source": [
    "import glob\n",
    "import numpy as np"
   ]
  },
  {
   "cell_type": "code",
   "execution_count": 184,
   "metadata": {},
   "outputs": [
    {
     "data": {
      "text/plain": [
       "2100"
      ]
     },
     "execution_count": 184,
     "metadata": {},
     "output_type": "execute_result"
    }
   ],
   "source": [
    "permutationFiles =  glob.glob(\".\\\\data\\\\ntsb[0-9]*.txt-1-5-5-0-out.perm-*\")\n",
    "len(permutationFiles)"
   ]
  },
  {
   "cell_type": "code",
   "execution_count": 185,
   "metadata": {},
   "outputs": [],
   "source": [
    "permutationData = []\n",
    "for file in permutationFiles:\n",
    "    with open(file) as f:\n",
    "        permutationData.append(f.readlines())"
   ]
  },
  {
   "cell_type": "code",
   "execution_count": 186,
   "metadata": {},
   "outputs": [
    {
     "name": "stdout",
     "output_type": "stream",
     "text": [
      "15.100000000000136\n",
      "6\n",
      "19\n"
     ]
    }
   ],
   "source": [
    "mn = 30000\n",
    "mx = 0\n",
    "lens = []\n",
    "for data in permutationData:\n",
    "    mn = min(mn, len(data))\n",
    "    mx = max(mx, len(data))\n",
    "    lens.append(len(data))\n",
    "    \n",
    "print(np.percentile(lens, 90))\n",
    "print(mn)\n",
    "print(mx)"
   ]
  },
  {
   "cell_type": "code",
   "execution_count": 203,
   "metadata": {},
   "outputs": [],
   "source": [
    "num_files = len(permutationData)\n",
    "max_seq_len = 10\n",
    "processedData = np.array([[\" \" for i in range(max_seq_len)] for i in range(num_files)], dtype = object)\n",
    "processedDataPerm = np.array([[-1 for i in range(max_seq_len)] for i in range(num_files)])\n",
    "for i in range(num_files):\n",
    "    fileData = permutationData[i]\n",
    "    j = 0\n",
    "    for line in fileData:\n",
    "        processedData[i][j] = ' '.join(line.split(' ')[1:]).strip()\n",
    "        \n",
    "        if(int(line.split(' ')[0].split('-')[-1]) <= max_seq_len):\n",
    "            processedDataPerm[i][j] = int(line.split(' ')[0].split('-')[-1]) - 1\n",
    "            j += 1\n",
    "        if( j >= max_seq_len ):\n",
    "            break\n",
    "        \n",
    "        "
   ]
  },
  {
   "cell_type": "code",
   "execution_count": 204,
   "metadata": {},
   "outputs": [],
   "source": [
    "with open('.\\\\data\\\\processed\\\\sentences.txt','w') as f:\n",
    "    for line in processedData:\n",
    "        f.write('\\t'.join(line).strip() + '\\n')"
   ]
  },
  {
   "cell_type": "code",
   "execution_count": 205,
   "metadata": {},
   "outputs": [],
   "source": [
    "with open('.\\\\data\\\\processed\\\\permutations.txt','w') as f:\n",
    "    for line in processedDataPerm:\n",
    "        f.write('\\t'.join(line.astype(str)).strip() + '\\n')"
   ]
  },
  {
   "cell_type": "code",
   "execution_count": 136,
   "metadata": {},
   "outputs": [],
   "source": [
    "with open('.\\\\data\\\\processed\\\\sentences.txt') as f:\n",
    "    sentences = f.readlines()\n",
    "\n",
    "X = []\n",
    "for line in sentences:\n",
    "    xx = [[\" \"] for i in range(max_seq_len)]\n",
    "    lineSents = line.split('\\t')\n",
    "    j = 0\n",
    "    for ls in lineSents:\n",
    "        xx[j][0] = ls\n",
    "        j += 1\n",
    "    X.append(xx)\n",
    "    \n",
    "X = np.asarray(X)\n"
   ]
  },
  {
   "cell_type": "code",
   "execution_count": 138,
   "metadata": {},
   "outputs": [
    {
     "data": {
      "text/plain": [
       "array([[['This is preliminary information, subject to change, and may contain errors.'],\n",
       "        ['Any errors in this report will be corrected when the final report has been completed.'],\n",
       "        ['On January 13, 1994, about 1230 hours Greenwich Mean Time, a Beech BE-90, N46WA, registered to Charles Kuykendall, Wilmer, Texas, was destroyed during a ditching in international waters about 50 nautical miles south of Martigues, France.'],\n",
       "        ...,\n",
       "        ['According to Hungarian records, the airplane was substantially damaged in a previous accident on March 9, 1991.'],\n",
       "        ['The airplane remained in Hungary until it was purchased by the current registrant.\\n'],\n",
       "        [' ']],\n",
       "\n",
       "       [['After the ditching, the pilot utilized survival equipment and was later rescued by a search and rescue helicopter.'],\n",
       "        ['According to the pilot, an electrical fire started and produced smoke in the cockpit during the flight from Straubling-Wallmuhl, Germany, to the Azores, Portugal.'],\n",
       "        ['The ferry flight departed from Straubing-Wallmuhl, Germany.'],\n",
       "        ...,\n",
       "        ['On January 13, 1994, about 1230 hours Greenwich Mean Time, a Beech BE-90, N46WA, registered to Charles Kuykendall, Wilmer, Texas, was destroyed during a ditching in international waters about 50 nautical miles south of Martigues, France.'],\n",
       "        ['The airplane remained in Hungary until it was purchased by the current registrant.\\n'],\n",
       "        [' ']],\n",
       "\n",
       "       [['The pilot elected to ditch the airplane into the Mediterranean Sea.'],\n",
       "        ['According to the pilot, an electrical fire started and produced smoke in the cockpit during the flight from Straubling-Wallmuhl, Germany, to the Azores, Portugal.'],\n",
       "        ['Any errors in this report will be corrected when the final report has been completed.'],\n",
       "        ...,\n",
       "        ['The German national commercial pilot, the sole occupant, received minor injuries.'],\n",
       "        ['After the ditching, the pilot utilized survival equipment and was later rescued by a search and rescue helicopter.\\n'],\n",
       "        [' ']],\n",
       "\n",
       "       ...,\n",
       "\n",
       "       [[\"On December 28, 2001, at 1428 central standard time, a Boeing 737-522, N941UA, operated by United Airlines (UAL) as Flight 1260, declared an emergency due to a reported control system problem during decent to the Chicago O'Hare International Airport (ORD), Chicago, Illinois.\"],\n",
       "        ['The Captain reported the airplane was descending from 10,000 feet when he noticed a \"subtle vibration\" in the cockpit that lasted approximately 2 seconds.'],\n",
       "        ['The flight departed the Eastern Iowa Airport, Cedar Rapids, Iowa, at 1357 and was en route to ORD at the time of the incident.'],\n",
       "        ...,\n",
       "        [' '],\n",
       "        [' '],\n",
       "        [' ']],\n",
       "\n",
       "       [['The revenue passenger flight was operating under the provisions of 14 CFR Part 121 and was operating on an instrument rules flight plan.'],\n",
       "        ['The flight departed the Eastern Iowa Airport, Cedar Rapids, Iowa, at 1357 and was en route to ORD at the time of the incident.'],\n",
       "        ['This is preliminary information, subject to change, and may contain errors.'],\n",
       "        ...,\n",
       "        [' '],\n",
       "        [' '],\n",
       "        [' ']],\n",
       "\n",
       "       [['The flight landed uneventfully at ORD.'],\n",
       "        ['The revenue passenger flight was operating under the provisions of 14 CFR Part 121 and was operating on an instrument rules flight plan.'],\n",
       "        ['The flight departed the Eastern Iowa Airport, Cedar Rapids, Iowa, at 1357 and was en route to ORD at the time of the incident.'],\n",
       "        ...,\n",
       "        [' '],\n",
       "        [' '],\n",
       "        [' ']]], dtype='<U636')"
      ]
     },
     "execution_count": 138,
     "metadata": {},
     "output_type": "execute_result"
    }
   ],
   "source": [
    "X"
   ]
  },
  {
   "cell_type": "code",
   "execution_count": 169,
   "metadata": {},
   "outputs": [
    {
     "data": {
      "text/plain": [
       "(2100, 15, 15)"
      ]
     },
     "execution_count": 169,
     "metadata": {},
     "output_type": "execute_result"
    }
   ],
   "source": [
    "from keras.utils.np_utils import to_categorical\n",
    "YY = []\n",
    "for y_ in y:\n",
    "    yy = []\n",
    "    dummyVec = np.array([ 0 for i in range(15)])\n",
    "    for yy_ in y_:\n",
    "        if( yy_ != -1):\n",
    "            dummyVec[yy_] = 1\n",
    "        yy.append(np.copy(dummyVec))\n",
    "        dummyVec[yy_] = 0\n",
    "    YY.append(yy)\n",
    "    \n",
    "YY = np.asarray(YY)\n",
    "YY.shape"
   ]
  },
  {
   "cell_type": "code",
   "execution_count": 170,
   "metadata": {},
   "outputs": [
    {
     "data": {
      "text/plain": [
       "(2100, 15, 15)"
      ]
     },
     "execution_count": 170,
     "metadata": {},
     "output_type": "execute_result"
    }
   ],
   "source": [
    "# YY = []\n",
    "# for y_ in y:\n",
    "#     print(to_categorical(y_).shape)\n",
    "    \n",
    "YY2 = to_categorical(y)    \n",
    "YY2.shape"
   ]
  },
  {
   "cell_type": "code",
   "execution_count": 171,
   "metadata": {},
   "outputs": [
    {
     "data": {
      "text/plain": [
       "False"
      ]
     },
     "execution_count": 171,
     "metadata": {},
     "output_type": "execute_result"
    }
   ],
   "source": [
    "np.all(YY == YY2)"
   ]
  },
  {
   "cell_type": "code",
   "execution_count": 172,
   "metadata": {},
   "outputs": [
    {
     "data": {
      "text/plain": [
       "array([[1., 0., 0., 0., 0., 0., 0., 0., 0., 0., 0., 0., 0., 0., 0.],\n",
       "       [0., 1., 0., 0., 0., 0., 0., 0., 0., 0., 0., 0., 0., 0., 0.],\n",
       "       [0., 0., 1., 0., 0., 0., 0., 0., 0., 0., 0., 0., 0., 0., 0.],\n",
       "       [0., 0., 0., 1., 0., 0., 0., 0., 0., 0., 0., 0., 0., 0., 0.],\n",
       "       [0., 0., 0., 0., 1., 0., 0., 0., 0., 0., 0., 0., 0., 0., 0.],\n",
       "       [0., 0., 0., 0., 0., 1., 0., 0., 0., 0., 0., 0., 0., 0., 0.],\n",
       "       [0., 0., 0., 0., 0., 0., 1., 0., 0., 0., 0., 0., 0., 0., 0.],\n",
       "       [0., 0., 0., 0., 0., 0., 0., 1., 0., 0., 0., 0., 0., 0., 0.],\n",
       "       [0., 0., 0., 0., 0., 0., 0., 0., 1., 0., 0., 0., 0., 0., 0.],\n",
       "       [0., 0., 0., 0., 0., 0., 0., 0., 0., 1., 0., 0., 0., 0., 0.],\n",
       "       [0., 0., 0., 0., 0., 0., 0., 0., 0., 0., 1., 0., 0., 0., 0.],\n",
       "       [0., 0., 0., 0., 0., 0., 0., 0., 0., 0., 0., 1., 0., 0., 0.],\n",
       "       [0., 0., 0., 0., 0., 0., 0., 0., 0., 0., 0., 0., 1., 0., 0.],\n",
       "       [0., 0., 0., 0., 0., 0., 0., 0., 0., 0., 0., 0., 0., 1., 0.],\n",
       "       [0., 0., 0., 0., 0., 0., 0., 0., 0., 0., 0., 0., 0., 0., 1.]],\n",
       "      dtype=float32)"
      ]
     },
     "execution_count": 172,
     "metadata": {},
     "output_type": "execute_result"
    }
   ],
   "source": [
    "YY2[0]"
   ]
  },
  {
   "cell_type": "code",
   "execution_count": 181,
   "metadata": {},
   "outputs": [
    {
     "data": {
      "text/plain": [
       "array([[0, 0, 0, 0, 0, 0, 0, 1, 0, 0, 0, 0, 0, 0, 0],\n",
       "       [0, 0, 0, 0, 0, 0, 0, 0, 0, 0, 1, 0, 0, 0, 0],\n",
       "       [0, 1, 0, 0, 0, 0, 0, 0, 0, 0, 0, 0, 0, 0, 0],\n",
       "       [0, 0, 0, 0, 0, 0, 1, 0, 0, 0, 0, 0, 0, 0, 0],\n",
       "       [0, 0, 0, 0, 0, 1, 0, 0, 0, 0, 0, 0, 0, 0, 0],\n",
       "       [0, 0, 0, 0, 1, 0, 0, 0, 0, 0, 0, 0, 0, 0, 0],\n",
       "       [0, 0, 0, 0, 0, 0, 0, 0, 0, 1, 0, 0, 0, 0, 0],\n",
       "       [0, 0, 1, 0, 0, 0, 0, 0, 0, 0, 0, 0, 0, 0, 0],\n",
       "       [0, 0, 0, 0, 0, 0, 0, 0, 1, 0, 0, 0, 0, 0, 0],\n",
       "       [0, 0, 0, 1, 0, 0, 0, 0, 0, 0, 0, 0, 0, 0, 0],\n",
       "       [1, 0, 0, 0, 0, 0, 0, 0, 0, 0, 0, 0, 0, 0, 0],\n",
       "       [0, 0, 0, 0, 0, 0, 0, 0, 0, 0, 0, 0, 0, 0, 0],\n",
       "       [0, 0, 0, 0, 0, 0, 0, 0, 0, 0, 0, 0, 0, 0, 0],\n",
       "       [0, 0, 0, 0, 0, 0, 0, 0, 0, 0, 0, 0, 0, 0, 0],\n",
       "       [0, 0, 0, 0, 0, 0, 0, 0, 0, 0, 0, 0, 0, 0, 0]])"
      ]
     },
     "execution_count": 181,
     "metadata": {},
     "output_type": "execute_result"
    }
   ],
   "source": [
    "YY[22]"
   ]
  },
  {
   "cell_type": "code",
   "execution_count": 180,
   "metadata": {},
   "outputs": [
    {
     "data": {
      "text/plain": [
       "array([ 7, 10,  1,  6,  5,  4,  9,  2,  8,  3,  0, -1, -1, -1, -1])"
      ]
     },
     "execution_count": 180,
     "metadata": {},
     "output_type": "execute_result"
    }
   ],
   "source": [
    "y[22]"
   ]
  },
  {
   "cell_type": "code",
   "execution_count": 182,
   "metadata": {},
   "outputs": [
    {
     "name": "stdout",
     "output_type": "stream",
     "text": [
      "WARNING:tensorflow:From C:\\Users\\abrah\\Anaconda3\\envs\\tf_gpu\\lib\\site-packages\\keras\\backend\\tensorflow_backend.py:517: The name tf.placeholder is deprecated. Please use tf.compat.v1.placeholder instead.\n",
      "\n"
     ]
    },
    {
     "name": "stderr",
     "output_type": "stream",
     "text": [
      "WARNING:tensorflow:From C:\\Users\\abrah\\Anaconda3\\envs\\tf_gpu\\lib\\site-packages\\keras\\backend\\tensorflow_backend.py:517: The name tf.placeholder is deprecated. Please use tf.compat.v1.placeholder instead.\n",
      "\n"
     ]
    },
    {
     "name": "stdout",
     "output_type": "stream",
     "text": [
      "WARNING:tensorflow:From C:\\Users\\abrah\\Anaconda3\\envs\\tf_gpu\\lib\\site-packages\\keras\\backend\\tensorflow_backend.py:74: The name tf.get_default_graph is deprecated. Please use tf.compat.v1.get_default_graph instead.\n",
      "\n"
     ]
    },
    {
     "name": "stderr",
     "output_type": "stream",
     "text": [
      "WARNING:tensorflow:From C:\\Users\\abrah\\Anaconda3\\envs\\tf_gpu\\lib\\site-packages\\keras\\backend\\tensorflow_backend.py:74: The name tf.get_default_graph is deprecated. Please use tf.compat.v1.get_default_graph instead.\n",
      "\n"
     ]
    },
    {
     "name": "stdout",
     "output_type": "stream",
     "text": [
      "INFO:tensorflow:Saver not created because there are no variables in the graph to restore\n"
     ]
    },
    {
     "name": "stderr",
     "output_type": "stream",
     "text": [
      "INFO:tensorflow:Saver not created because there are no variables in the graph to restore\n"
     ]
    },
    {
     "name": "stdout",
     "output_type": "stream",
     "text": [
      "WARNING:tensorflow:From C:\\Users\\abrah\\Anaconda3\\envs\\tf_gpu\\lib\\site-packages\\keras\\backend\\tensorflow_backend.py:4138: The name tf.random_uniform is deprecated. Please use tf.random.uniform instead.\n",
      "\n"
     ]
    },
    {
     "name": "stderr",
     "output_type": "stream",
     "text": [
      "WARNING:tensorflow:From C:\\Users\\abrah\\Anaconda3\\envs\\tf_gpu\\lib\\site-packages\\keras\\backend\\tensorflow_backend.py:4138: The name tf.random_uniform is deprecated. Please use tf.random.uniform instead.\n",
      "\n"
     ]
    },
    {
     "name": "stdout",
     "output_type": "stream",
     "text": [
      "WARNING:tensorflow:From C:\\Users\\abrah\\Anaconda3\\envs\\tf_gpu\\lib\\site-packages\\keras\\optimizers.py:790: The name tf.train.Optimizer is deprecated. Please use tf.compat.v1.train.Optimizer instead.\n",
      "\n"
     ]
    },
    {
     "name": "stderr",
     "output_type": "stream",
     "text": [
      "WARNING:tensorflow:From C:\\Users\\abrah\\Anaconda3\\envs\\tf_gpu\\lib\\site-packages\\keras\\optimizers.py:790: The name tf.train.Optimizer is deprecated. Please use tf.compat.v1.train.Optimizer instead.\n",
      "\n"
     ]
    },
    {
     "name": "stdout",
     "output_type": "stream",
     "text": [
      "WARNING:tensorflow:From C:\\Users\\abrah\\Anaconda3\\envs\\tf_gpu\\lib\\site-packages\\keras\\backend\\tensorflow_backend.py:3295: The name tf.log is deprecated. Please use tf.math.log instead.\n",
      "\n"
     ]
    },
    {
     "name": "stderr",
     "output_type": "stream",
     "text": [
      "WARNING:tensorflow:From C:\\Users\\abrah\\Anaconda3\\envs\\tf_gpu\\lib\\site-packages\\keras\\backend\\tensorflow_backend.py:3295: The name tf.log is deprecated. Please use tf.math.log instead.\n",
      "\n"
     ]
    },
    {
     "name": "stdout",
     "output_type": "stream",
     "text": [
      "_________________________________________________________________\n",
      "Layer (type)                 Output Shape              Param #   \n",
      "=================================================================\n",
      "sent_inp (InputLayer)        (None, 15, 1)             0         \n",
      "_________________________________________________________________\n",
      "time_distributed_1 (TimeDist (None, 15, 512)           0         \n",
      "_________________________________________________________________\n",
      "lstm_1 (LSTM)                (None, 15, 100)           245200    \n",
      "_________________________________________________________________\n",
      "pointer_lstm_1 (PointerLSTM) (None, 15, 15)            60300     \n",
      "=================================================================\n",
      "Total params: 305,500\n",
      "Trainable params: 305,500\n",
      "Non-trainable params: 0\n",
      "_________________________________________________________________\n"
     ]
    }
   ],
   "source": [
    "from UniversalEmbeddingModels import *\n",
    "\n",
    "model = PointerLstmBased(15)\n",
    "model.summary()"
   ]
  },
  {
   "cell_type": "code",
   "execution_count": null,
   "metadata": {},
   "outputs": [],
   "source": []
  }
 ],
 "metadata": {
  "kernelspec": {
   "display_name": "Python 3",
   "language": "python",
   "name": "python3"
  },
  "language_info": {
   "codemirror_mode": {
    "name": "ipython",
    "version": 3
   },
   "file_extension": ".py",
   "mimetype": "text/x-python",
   "name": "python",
   "nbconvert_exporter": "python",
   "pygments_lexer": "ipython3",
   "version": "3.7.4"
  }
 },
 "nbformat": 4,
 "nbformat_minor": 4
}
